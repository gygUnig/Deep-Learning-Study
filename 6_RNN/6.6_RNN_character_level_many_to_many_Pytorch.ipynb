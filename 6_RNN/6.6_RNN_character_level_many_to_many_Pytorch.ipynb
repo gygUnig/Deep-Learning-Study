{
 "cells": [
  {
   "cell_type": "markdown",
   "metadata": {},
   "source": [
    "# 문자 단위 RNN (Char RNN) Practice\n",
    "\n",
    "\n",
    "- reference : https://wikidocs.net/64703"
   ]
  },
  {
   "cell_type": "markdown",
   "metadata": {},
   "source": [
    "- 입출력의 단위가 단어 레벨이 아니라 문자 레벨로 하여 RNN을 구현한다면, 이를 문자 단위 RNN이라고 한다.\n",
    "- 문자 단위 RNN을 다대다(many-to-many) 구조로 구현해보자\n",
    "- \"apple\"이라는 문자 시퀀스를 입력받으면 \"pple!\"을 출력하는 RNN 구현"
   ]
  },
  {
   "cell_type": "code",
   "execution_count": 77,
   "metadata": {},
   "outputs": [],
   "source": [
    "import torch\n",
    "import torch.nn as nn\n",
    "import torch.optim as optim\n",
    "import numpy as np"
   ]
  },
  {
   "cell_type": "markdown",
   "metadata": {},
   "source": [
    "문자 시퀀스 KimSeungHee를 입력받으면 handsome! 을 출력하는 RNN을 구현해보자."
   ]
  },
  {
   "cell_type": "markdown",
   "metadata": {},
   "source": [
    "# 1. 훈련 데이터 전처리하기"
   ]
  },
  {
   "cell_type": "markdown",
   "metadata": {},
   "source": [
    "- 입력 데이터와 레이블 데이터에 대해서 문자 집합(vocabulary)를 만든다. \n",
    "- 여기서 문자 집합은 중복을 제거한 문자들의 집합이다."
   ]
  },
  {
   "cell_type": "code",
   "execution_count": 78,
   "metadata": {},
   "outputs": [
    {
     "name": "stdout",
     "output_type": "stream",
     "text": [
      "문자 집합 : ['!', 'a', 'e', 'l', 'p']\n",
      "문자 집합의 크기 : 5\n"
     ]
    }
   ],
   "source": [
    "input_str = 'apple'\n",
    "label_str = 'pple!'\n",
    "\n",
    "char_vocab = sorted(list(set(input_str+label_str)))\n",
    "vocab_size = len(char_vocab)\n",
    "\n",
    "print(\"문자 집합 : {}\".format(char_vocab))\n",
    "print(\"문자 집합의 크기 : {}\".format(vocab_size))"
   ]
  },
  {
   "cell_type": "code",
   "execution_count": 79,
   "metadata": {},
   "outputs": [],
   "source": [
    "# hyper parameter 정의\n",
    "input_size = vocab_size  # 입력은 원-핫 벡터를 사용할 것이므로 입력의 크기는 문자 집합의 크기여야 한다.\n",
    "hidden_size = 5\n",
    "output_size = 5\n",
    "learning_rate = 0.1\n",
    "n_epoch = 100"
   ]
  },
  {
   "cell_type": "markdown",
   "metadata": {},
   "source": [
    "문자 집합에 고유한 정수를 부여한다."
   ]
  },
  {
   "cell_type": "code",
   "execution_count": 80,
   "metadata": {},
   "outputs": [
    {
     "name": "stdout",
     "output_type": "stream",
     "text": [
      "{'!': 0, 'a': 1, 'e': 2, 'l': 3, 'p': 4}\n"
     ]
    }
   ],
   "source": [
    "char_to_index = dict((c,i) for i,c in enumerate(char_vocab))  # 문자에 고유한 정수 인덱스 부여\n",
    "print(char_to_index)"
   ]
  },
  {
   "cell_type": "markdown",
   "metadata": {},
   "source": [
    "나중에 예측 결과를 다시 문자 시퀀스로 보기 위해서 반대로 정수로부터 문자를 얻을 수 있는 index_to_char을 만든다."
   ]
  },
  {
   "cell_type": "code",
   "execution_count": 81,
   "metadata": {},
   "outputs": [
    {
     "name": "stdout",
     "output_type": "stream",
     "text": [
      "{0: '!', 1: 'a', 2: 'e', 3: 'l', 4: 'p'}\n"
     ]
    }
   ],
   "source": [
    "index_to_char = {}\n",
    "for key, value in char_to_index.items():\n",
    "    index_to_char[value] = key\n",
    "    \n",
    "print(index_to_char)"
   ]
  },
  {
   "cell_type": "markdown",
   "metadata": {},
   "source": [
    "입력 데이터와 레이블 데이터의 각 문자들을 정수로 맵핑한다."
   ]
  },
  {
   "cell_type": "code",
   "execution_count": 82,
   "metadata": {},
   "outputs": [
    {
     "name": "stdout",
     "output_type": "stream",
     "text": [
      "[1, 4, 4, 3, 2]\n",
      "[4, 4, 3, 2, 0]\n"
     ]
    }
   ],
   "source": [
    "x_data = [char_to_index[c] for c in input_str]\n",
    "y_data = [char_to_index[c] for c in label_str]\n",
    "\n",
    "print(x_data)  # KimSeungHee에 해당된다\n",
    "print(y_data)  # handsome! 에 해당된다"
   ]
  },
  {
   "cell_type": "markdown",
   "metadata": {},
   "source": [
    "파이토치의  nn.RNN()은 기본적으로 3차원 텐서를 입력받는다. 배치 차원을 추가해준다."
   ]
  },
  {
   "cell_type": "code",
   "execution_count": 83,
   "metadata": {},
   "outputs": [
    {
     "name": "stdout",
     "output_type": "stream",
     "text": [
      "[[1, 4, 4, 3, 2]]\n",
      "[[4, 4, 3, 2, 0]]\n"
     ]
    }
   ],
   "source": [
    "x_data = [x_data]\n",
    "y_data = [y_data]\n",
    "\n",
    "print(x_data)\n",
    "print(y_data)"
   ]
  },
  {
   "cell_type": "markdown",
   "metadata": {},
   "source": [
    "입력 시퀀스의 각 문자들을 원-핫 벡터로 바꿔준다"
   ]
  },
  {
   "cell_type": "code",
   "execution_count": 84,
   "metadata": {},
   "outputs": [
    {
     "name": "stdout",
     "output_type": "stream",
     "text": [
      "[array([[0., 1., 0., 0., 0.],\n",
      "       [0., 0., 0., 0., 1.],\n",
      "       [0., 0., 0., 0., 1.],\n",
      "       [0., 0., 0., 1., 0.],\n",
      "       [0., 0., 1., 0., 0.]])]\n"
     ]
    }
   ],
   "source": [
    "x_one_hot = [np.eye(vocab_size)[x] for x in x_data]\n",
    "print(x_one_hot)"
   ]
  },
  {
   "cell_type": "markdown",
   "metadata": {},
   "source": [
    "입력 데이터와 레이블 데이터를 텐서로 바꿔준다"
   ]
  },
  {
   "cell_type": "code",
   "execution_count": 85,
   "metadata": {},
   "outputs": [],
   "source": [
    "X = torch.FloatTensor(x_one_hot)\n",
    "Y = torch.LongTensor(y_data)"
   ]
  },
  {
   "cell_type": "code",
   "execution_count": 86,
   "metadata": {},
   "outputs": [
    {
     "name": "stdout",
     "output_type": "stream",
     "text": [
      "train data의 크기 : torch.Size([1, 5, 5])\n",
      "label의 크기 : torch.Size([1, 5])\n"
     ]
    }
   ],
   "source": [
    "# 텐서 크기 확인\n",
    "print(\"train data의 크기 : {}\".format(X.shape))\n",
    "print(\"label의 크기 : {}\".format(Y.shape))"
   ]
  },
  {
   "cell_type": "markdown",
   "metadata": {},
   "source": [
    "### 2. RNN 모델 구현"
   ]
  },
  {
   "cell_type": "code",
   "execution_count": 87,
   "metadata": {},
   "outputs": [],
   "source": [
    "class RNN(nn.Module):\n",
    "    def __init__(self, input_size, hidden_size, output_size):\n",
    "        super().__init__()\n",
    "        self.rnn = nn.RNN(input_size, hidden_size, batch_first=True)\n",
    "        self.fc = nn.Linear(hidden_size, output_size, bias=True)\n",
    "        \n",
    "    def forward(self, x):\n",
    "        x, _status = self.rnn(x)\n",
    "        x = self.fc(x)\n",
    "        return x"
   ]
  },
  {
   "cell_type": "code",
   "execution_count": 88,
   "metadata": {},
   "outputs": [],
   "source": [
    "model = RNN(input_size, hidden_size, output_size)"
   ]
  },
  {
   "cell_type": "code",
   "execution_count": 89,
   "metadata": {},
   "outputs": [
    {
     "name": "stdout",
     "output_type": "stream",
     "text": [
      "torch.Size([1, 5, 5])\n"
     ]
    }
   ],
   "source": [
    "outputs = model(X)\n",
    "print(outputs.shape)  # [배치 사이즈, 시점(timesteps), 출력의 크기]를 뜻한다."
   ]
  },
  {
   "cell_type": "markdown",
   "metadata": {},
   "source": [
    "정확도를 측정할 때에는 이를 모두 펼쳐서 계산하므로, view를 사용하여 배치 차원과 시점 차원을 하나로 만든다"
   ]
  },
  {
   "cell_type": "code",
   "execution_count": 90,
   "metadata": {},
   "outputs": [
    {
     "name": "stdout",
     "output_type": "stream",
     "text": [
      "torch.Size([5, 5])\n"
     ]
    }
   ],
   "source": [
    "print(outputs.view(-1, input_size).shape)"
   ]
  },
  {
   "cell_type": "markdown",
   "metadata": {},
   "source": [
    "레이블 데이터의 크기 확인"
   ]
  },
  {
   "cell_type": "code",
   "execution_count": 91,
   "metadata": {},
   "outputs": [
    {
     "name": "stdout",
     "output_type": "stream",
     "text": [
      "torch.Size([1, 5])\n",
      "torch.Size([5])\n"
     ]
    }
   ],
   "source": [
    "print(Y.shape)\n",
    "print(Y.view(-1).shape)  # [1,5]의 크기를 가지는데, 나중에 정확도 측정할 때에는 펼쳐서 계산할 예정"
   ]
  },
  {
   "cell_type": "code",
   "execution_count": 92,
   "metadata": {},
   "outputs": [],
   "source": [
    "# optimizer, criterion 정의\n",
    "\n",
    "criterion = nn.CrossEntropyLoss()\n",
    "optimizer = optim.Adam(model.parameters(), learning_rate)"
   ]
  },
  {
   "cell_type": "code",
   "execution_count": 93,
   "metadata": {},
   "outputs": [
    {
     "name": "stdout",
     "output_type": "stream",
     "text": [
      "epoch:1/100 loss:1.6426725387573242, prediction:[[4 4 4 4 4]], true Y:[[4, 4, 3, 2, 0]], prediction str:ppppp\n",
      "epoch:2/100 loss:1.4400408267974854, prediction:[[4 4 4 4 4]], true Y:[[4, 4, 3, 2, 0]], prediction str:ppppp\n",
      "epoch:3/100 loss:1.2884645462036133, prediction:[[4 4 4 4 4]], true Y:[[4, 4, 3, 2, 0]], prediction str:ppppp\n",
      "epoch:4/100 loss:1.117919921875, prediction:[[4 4 4 4 0]], true Y:[[4, 4, 3, 2, 0]], prediction str:pppp!\n",
      "epoch:5/100 loss:0.9128655195236206, prediction:[[4 4 3 4 0]], true Y:[[4, 4, 3, 2, 0]], prediction str:pplp!\n",
      "epoch:6/100 loss:0.6886799931526184, prediction:[[4 4 3 4 0]], true Y:[[4, 4, 3, 2, 0]], prediction str:pplp!\n",
      "epoch:7/100 loss:0.4866153597831726, prediction:[[4 4 3 2 0]], true Y:[[4, 4, 3, 2, 0]], prediction str:pple!\n",
      "epoch:8/100 loss:0.3441835641860962, prediction:[[4 4 3 2 0]], true Y:[[4, 4, 3, 2, 0]], prediction str:pple!\n",
      "epoch:9/100 loss:0.2428395003080368, prediction:[[4 4 3 2 0]], true Y:[[4, 4, 3, 2, 0]], prediction str:pple!\n",
      "epoch:10/100 loss:0.16687020659446716, prediction:[[4 4 3 2 0]], true Y:[[4, 4, 3, 2, 0]], prediction str:pple!\n",
      "epoch:11/100 loss:0.11237122118473053, prediction:[[4 4 3 2 0]], true Y:[[4, 4, 3, 2, 0]], prediction str:pple!\n",
      "epoch:12/100 loss:0.07563041895627975, prediction:[[4 4 3 2 0]], true Y:[[4, 4, 3, 2, 0]], prediction str:pple!\n",
      "epoch:13/100 loss:0.051401473581790924, prediction:[[4 4 3 2 0]], true Y:[[4, 4, 3, 2, 0]], prediction str:pple!\n",
      "epoch:14/100 loss:0.0356723852455616, prediction:[[4 4 3 2 0]], true Y:[[4, 4, 3, 2, 0]], prediction str:pple!\n",
      "epoch:15/100 loss:0.025529125705361366, prediction:[[4 4 3 2 0]], true Y:[[4, 4, 3, 2, 0]], prediction str:pple!\n",
      "epoch:16/100 loss:0.0188446082174778, prediction:[[4 4 3 2 0]], true Y:[[4, 4, 3, 2, 0]], prediction str:pple!\n",
      "epoch:17/100 loss:0.014288568869233131, prediction:[[4 4 3 2 0]], true Y:[[4, 4, 3, 2, 0]], prediction str:pple!\n",
      "epoch:18/100 loss:0.01110096275806427, prediction:[[4 4 3 2 0]], true Y:[[4, 4, 3, 2, 0]], prediction str:pple!\n",
      "epoch:19/100 loss:0.008829101920127869, prediction:[[4 4 3 2 0]], true Y:[[4, 4, 3, 2, 0]], prediction str:pple!\n",
      "epoch:20/100 loss:0.007181530352681875, prediction:[[4 4 3 2 0]], true Y:[[4, 4, 3, 2, 0]], prediction str:pple!\n",
      "epoch:21/100 loss:0.005962866358458996, prediction:[[4 4 3 2 0]], true Y:[[4, 4, 3, 2, 0]], prediction str:pple!\n",
      "epoch:22/100 loss:0.005041888449341059, prediction:[[4 4 3 2 0]], true Y:[[4, 4, 3, 2, 0]], prediction str:pple!\n",
      "epoch:23/100 loss:0.0043306127190589905, prediction:[[4 4 3 2 0]], true Y:[[4, 4, 3, 2, 0]], prediction str:pple!\n",
      "epoch:24/100 loss:0.0037697262596338987, prediction:[[4 4 3 2 0]], true Y:[[4, 4, 3, 2, 0]], prediction str:pple!\n",
      "epoch:25/100 loss:0.003319249954074621, prediction:[[4 4 3 2 0]], true Y:[[4, 4, 3, 2, 0]], prediction str:pple!\n",
      "epoch:26/100 loss:0.0029515200294554234, prediction:[[4 4 3 2 0]], true Y:[[4, 4, 3, 2, 0]], prediction str:pple!\n",
      "epoch:27/100 loss:0.0026471519377082586, prediction:[[4 4 3 2 0]], true Y:[[4, 4, 3, 2, 0]], prediction str:pple!\n",
      "epoch:28/100 loss:0.002392421243712306, prediction:[[4 4 3 2 0]], true Y:[[4, 4, 3, 2, 0]], prediction str:pple!\n",
      "epoch:29/100 loss:0.002176976762712002, prediction:[[4 4 3 2 0]], true Y:[[4, 4, 3, 2, 0]], prediction str:pple!\n",
      "epoch:30/100 loss:0.0019934717565774918, prediction:[[4 4 3 2 0]], true Y:[[4, 4, 3, 2, 0]], prediction str:pple!\n",
      "epoch:31/100 loss:0.0018358823144808412, prediction:[[4 4 3 2 0]], true Y:[[4, 4, 3, 2, 0]], prediction str:pple!\n",
      "epoch:32/100 loss:0.0016997006023302674, prediction:[[4 4 3 2 0]], true Y:[[4, 4, 3, 2, 0]], prediction str:pple!\n",
      "epoch:33/100 loss:0.0015815574442967772, prediction:[[4 4 3 2 0]], true Y:[[4, 4, 3, 2, 0]], prediction str:pple!\n",
      "epoch:34/100 loss:0.001478342106565833, prediction:[[4 4 3 2 0]], true Y:[[4, 4, 3, 2, 0]], prediction str:pple!\n",
      "epoch:35/100 loss:0.0013879414182156324, prediction:[[4 4 3 2 0]], true Y:[[4, 4, 3, 2, 0]], prediction str:pple!\n",
      "epoch:36/100 loss:0.0013083837693557143, prediction:[[4 4 3 2 0]], true Y:[[4, 4, 3, 2, 0]], prediction str:pple!\n",
      "epoch:37/100 loss:0.0012380297994241118, prediction:[[4 4 3 2 0]], true Y:[[4, 4, 3, 2, 0]], prediction str:pple!\n",
      "epoch:38/100 loss:0.0011755962623283267, prediction:[[4 4 3 2 0]], true Y:[[4, 4, 3, 2, 0]], prediction str:pple!\n",
      "epoch:39/100 loss:0.001120108994655311, prediction:[[4 4 3 2 0]], true Y:[[4, 4, 3, 2, 0]], prediction str:pple!\n",
      "epoch:40/100 loss:0.0010705217719078064, prediction:[[4 4 3 2 0]], true Y:[[4, 4, 3, 2, 0]], prediction str:pple!\n",
      "epoch:41/100 loss:0.0010261215502396226, prediction:[[4 4 3 2 0]], true Y:[[4, 4, 3, 2, 0]], prediction str:pple!\n",
      "epoch:42/100 loss:0.000986218685284257, prediction:[[4 4 3 2 0]], true Y:[[4, 4, 3, 2, 0]], prediction str:pple!\n",
      "epoch:43/100 loss:0.0009502660250291228, prediction:[[4 4 3 2 0]], true Y:[[4, 4, 3, 2, 0]], prediction str:pple!\n",
      "epoch:44/100 loss:0.0009177406318485737, prediction:[[4 4 3 2 0]], true Y:[[4, 4, 3, 2, 0]], prediction str:pple!\n",
      "epoch:45/100 loss:0.0008883330738171935, prediction:[[4 4 3 2 0]], true Y:[[4, 4, 3, 2, 0]], prediction str:pple!\n",
      "epoch:46/100 loss:0.0008615676197223365, prediction:[[4 4 3 2 0]], true Y:[[4, 4, 3, 2, 0]], prediction str:pple!\n",
      "epoch:47/100 loss:0.0008372064912691712, prediction:[[4 4 3 2 0]], true Y:[[4, 4, 3, 2, 0]], prediction str:pple!\n",
      "epoch:48/100 loss:0.0008149162749759853, prediction:[[4 4 3 2 0]], true Y:[[4, 4, 3, 2, 0]], prediction str:pple!\n",
      "epoch:49/100 loss:0.0007945544202812016, prediction:[[4 4 3 2 0]], true Y:[[4, 4, 3, 2, 0]], prediction str:pple!\n",
      "epoch:50/100 loss:0.0007759067229926586, prediction:[[4 4 3 2 0]], true Y:[[4, 4, 3, 2, 0]], prediction str:pple!\n",
      "epoch:51/100 loss:0.0007587112486362457, prediction:[[4 4 3 2 0]], true Y:[[4, 4, 3, 2, 0]], prediction str:pple!\n",
      "epoch:52/100 loss:0.0007428253884427249, prediction:[[4 4 3 2 0]], true Y:[[4, 4, 3, 2, 0]], prediction str:pple!\n",
      "epoch:53/100 loss:0.0007282252190634608, prediction:[[4 4 3 2 0]], true Y:[[4, 4, 3, 2, 0]], prediction str:pple!\n",
      "epoch:54/100 loss:0.000714625115506351, prediction:[[4 4 3 2 0]], true Y:[[4, 4, 3, 2, 0]], prediction str:pple!\n",
      "epoch:55/100 loss:0.0007020251941867173, prediction:[[4 4 3 2 0]], true Y:[[4, 4, 3, 2, 0]], prediction str:pple!\n",
      "epoch:56/100 loss:0.0006903301109559834, prediction:[[4 4 3 2 0]], true Y:[[4, 4, 3, 2, 0]], prediction str:pple!\n",
      "epoch:57/100 loss:0.0006794208893552423, prediction:[[4 4 3 2 0]], true Y:[[4, 4, 3, 2, 0]], prediction str:pple!\n",
      "epoch:58/100 loss:0.0006692021852359176, prediction:[[4 4 3 2 0]], true Y:[[4, 4, 3, 2, 0]], prediction str:pple!\n",
      "epoch:59/100 loss:0.000659626501146704, prediction:[[4 4 3 2 0]], true Y:[[4, 4, 3, 2, 0]], prediction str:pple!\n",
      "epoch:60/100 loss:0.0006506700301542878, prediction:[[4 4 3 2 0]], true Y:[[4, 4, 3, 2, 0]], prediction str:pple!\n",
      "epoch:61/100 loss:0.0006422374281100929, prediction:[[4 4 3 2 0]], true Y:[[4, 4, 3, 2, 0]], prediction str:pple!\n",
      "epoch:62/100 loss:0.0006342573906295002, prediction:[[4 4 3 2 0]], true Y:[[4, 4, 3, 2, 0]], prediction str:pple!\n",
      "epoch:63/100 loss:0.0006267059361562133, prediction:[[4 4 3 2 0]], true Y:[[4, 4, 3, 2, 0]], prediction str:pple!\n",
      "epoch:64/100 loss:0.0006196547183208168, prediction:[[4 4 3 2 0]], true Y:[[4, 4, 3, 2, 0]], prediction str:pple!\n",
      "epoch:65/100 loss:0.0006128416280262172, prediction:[[4 4 3 2 0]], true Y:[[4, 4, 3, 2, 0]], prediction str:pple!\n",
      "epoch:66/100 loss:0.0006064811022952199, prediction:[[4 4 3 2 0]], true Y:[[4, 4, 3, 2, 0]], prediction str:pple!\n",
      "epoch:67/100 loss:0.000600334838964045, prediction:[[4 4 3 2 0]], true Y:[[4, 4, 3, 2, 0]], prediction str:pple!\n",
      "epoch:68/100 loss:0.000594545912463218, prediction:[[4 4 3 2 0]], true Y:[[4, 4, 3, 2, 0]], prediction str:pple!\n",
      "epoch:69/100 loss:0.0005889951717108488, prediction:[[4 4 3 2 0]], true Y:[[4, 4, 3, 2, 0]], prediction str:pple!\n",
      "epoch:70/100 loss:0.0005836110794916749, prediction:[[4 4 3 2 0]], true Y:[[4, 4, 3, 2, 0]], prediction str:pple!\n",
      "epoch:71/100 loss:0.0005784890381619334, prediction:[[4 4 3 2 0]], true Y:[[4, 4, 3, 2, 0]], prediction str:pple!\n",
      "epoch:72/100 loss:0.0005735575105063617, prediction:[[4 4 3 2 0]], true Y:[[4, 4, 3, 2, 0]], prediction str:pple!\n",
      "epoch:73/100 loss:0.0005688403616659343, prediction:[[4 4 3 2 0]], true Y:[[4, 4, 3, 2, 0]], prediction str:pple!\n",
      "epoch:74/100 loss:0.0005643137847073376, prediction:[[4 4 3 2 0]], true Y:[[4, 4, 3, 2, 0]], prediction str:pple!\n",
      "epoch:75/100 loss:0.0005599063006229699, prediction:[[4 4 3 2 0]], true Y:[[4, 4, 3, 2, 0]], prediction str:pple!\n",
      "epoch:76/100 loss:0.0005556178512051702, prediction:[[4 4 3 2 0]], true Y:[[4, 4, 3, 2, 0]], prediction str:pple!\n",
      "epoch:77/100 loss:0.0005514961667358875, prediction:[[4 4 3 2 0]], true Y:[[4, 4, 3, 2, 0]], prediction str:pple!\n",
      "epoch:78/100 loss:0.0005474697682075202, prediction:[[4 4 3 2 0]], true Y:[[4, 4, 3, 2, 0]], prediction str:pple!\n",
      "epoch:79/100 loss:0.0005436100764200091, prediction:[[4 4 3 2 0]], true Y:[[4, 4, 3, 2, 0]], prediction str:pple!\n",
      "epoch:80/100 loss:0.0005398219218477607, prediction:[[4 4 3 2 0]], true Y:[[4, 4, 3, 2, 0]], prediction str:pple!\n",
      "epoch:81/100 loss:0.0005361527437344193, prediction:[[4 4 3 2 0]], true Y:[[4, 4, 3, 2, 0]], prediction str:pple!\n",
      "epoch:82/100 loss:0.0005325074307620525, prediction:[[4 4 3 2 0]], true Y:[[4, 4, 3, 2, 0]], prediction str:pple!\n",
      "epoch:83/100 loss:0.0005290050758048892, prediction:[[4 4 3 2 0]], true Y:[[4, 4, 3, 2, 0]], prediction str:pple!\n",
      "epoch:84/100 loss:0.0005256218137219548, prediction:[[4 4 3 2 0]], true Y:[[4, 4, 3, 2, 0]], prediction str:pple!\n",
      "epoch:85/100 loss:0.0005222860490903258, prediction:[[4 4 3 2 0]], true Y:[[4, 4, 3, 2, 0]], prediction str:pple!\n",
      "epoch:86/100 loss:0.0005189504008740187, prediction:[[4 4 3 2 0]], true Y:[[4, 4, 3, 2, 0]], prediction str:pple!\n",
      "epoch:87/100 loss:0.000515757710672915, prediction:[[4 4 3 2 0]], true Y:[[4, 4, 3, 2, 0]], prediction str:pple!\n",
      "epoch:88/100 loss:0.0005126363830640912, prediction:[[4 4 3 2 0]], true Y:[[4, 4, 3, 2, 0]], prediction str:pple!\n",
      "epoch:89/100 loss:0.0005095627857372165, prediction:[[4 4 3 2 0]], true Y:[[4, 4, 3, 2, 0]], prediction str:pple!\n",
      "epoch:90/100 loss:0.0005065129371359944, prediction:[[4 4 3 2 0]], true Y:[[4, 4, 3, 2, 0]], prediction str:pple!\n",
      "epoch:91/100 loss:0.0005035345675423741, prediction:[[4 4 3 2 0]], true Y:[[4, 4, 3, 2, 0]], prediction str:pple!\n",
      "epoch:92/100 loss:0.000500603870023042, prediction:[[4 4 3 2 0]], true Y:[[4, 4, 3, 2, 0]], prediction str:pple!\n",
      "epoch:93/100 loss:0.0004977683420293033, prediction:[[4 4 3 2 0]], true Y:[[4, 4, 3, 2, 0]], prediction str:pple!\n",
      "epoch:94/100 loss:0.0004948852583765984, prediction:[[4 4 3 2 0]], true Y:[[4, 4, 3, 2, 0]], prediction str:pple!\n",
      "epoch:95/100 loss:0.000492145074531436, prediction:[[4 4 3 2 0]], true Y:[[4, 4, 3, 2, 0]], prediction str:pple!\n",
      "epoch:96/100 loss:0.000489381025545299, prediction:[[4 4 3 2 0]], true Y:[[4, 4, 3, 2, 0]], prediction str:pple!\n",
      "epoch:97/100 loss:0.00048668860108591616, prediction:[[4 4 3 2 0]], true Y:[[4, 4, 3, 2, 0]], prediction str:pple!\n",
      "epoch:98/100 loss:0.00048404367407783866, prediction:[[4 4 3 2 0]], true Y:[[4, 4, 3, 2, 0]], prediction str:pple!\n",
      "epoch:99/100 loss:0.00048132723895832896, prediction:[[4 4 3 2 0]], true Y:[[4, 4, 3, 2, 0]], prediction str:pple!\n",
      "epoch:100/100 loss:0.00047875382006168365, prediction:[[4 4 3 2 0]], true Y:[[4, 4, 3, 2, 0]], prediction str:pple!\n"
     ]
    }
   ],
   "source": [
    "# 100 번의 Epoch 학습\n",
    "\n",
    "for epoch in range(n_epoch):\n",
    "    optimizer.zero_grad()\n",
    "    outputs = model(X)\n",
    "    \n",
    "    loss = criterion(outputs.view(-1, input_size), Y.view(-1))  # view를 하는 이유는 Batch 차원 제거를 위해\n",
    "    \n",
    "    loss.backward()  \n",
    "    optimizer.step()\n",
    "    \n",
    "    \n",
    "    # 모델이 실제로 어떻게 예측했는지 확인을 위한 코드\n",
    "    \n",
    "    # 최종 예측값인 각 time-step별 5차원 벡터에 대해서 가장 높은 값의 인덱스를 선택\n",
    "    result = outputs.data.numpy().argmax(axis=2)\n",
    "    \n",
    "    result_str = ''.join([index_to_char[c] for c in np.squeeze(result)])\n",
    "    \n",
    "    print(\"epoch:{}/{} loss:{}, prediction:{}, true Y:{}, prediction str:{}\".format(\n",
    "        epoch+1, n_epoch, loss.item(), result, y_data, result_str \n",
    "    ))"
   ]
  }
 ],
 "metadata": {
  "kernelspec": {
   "display_name": "torch1_8",
   "language": "python",
   "name": "python3"
  },
  "language_info": {
   "codemirror_mode": {
    "name": "ipython",
    "version": 3
   },
   "file_extension": ".py",
   "mimetype": "text/x-python",
   "name": "python",
   "nbconvert_exporter": "python",
   "pygments_lexer": "ipython3",
   "version": "3.8.17"
  },
  "orig_nbformat": 4
 },
 "nbformat": 4,
 "nbformat_minor": 2
}
