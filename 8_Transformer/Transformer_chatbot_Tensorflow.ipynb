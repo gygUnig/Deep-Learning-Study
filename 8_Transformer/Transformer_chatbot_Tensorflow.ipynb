{
 "cells": [
  {
   "cell_type": "markdown",
   "metadata": {},
   "source": [
    "# 트랜스포머를 이용한 한국어 챗봇"
   ]
  },
  {
   "cell_type": "markdown",
   "metadata": {},
   "source": [
    "reference : https://wikidocs.net/89786"
   ]
  },
  {
   "cell_type": "markdown",
   "metadata": {},
   "source": [
    "## 1. 데이터 로드"
   ]
  },
  {
   "cell_type": "code",
   "execution_count": 36,
   "metadata": {},
   "outputs": [],
   "source": [
    "import pandas as pd\n",
    "import numpy as np\n",
    "import matplotlib.pyplot as plt\n",
    "import re\n",
    "import urllib.request\n",
    "import time\n",
    "import tensorflow_datasets as tfds\n",
    "import tensorflow as tf"
   ]
  },
  {
   "cell_type": "code",
   "execution_count": 37,
   "metadata": {},
   "outputs": [
    {
     "data": {
      "text/plain": [
       "('ChatBotData.csv', <http.client.HTTPMessage at 0x1c980745640>)"
      ]
     },
     "execution_count": 37,
     "metadata": {},
     "output_type": "execute_result"
    }
   ],
   "source": [
    "urllib.request.urlretrieve(\"https://raw.githubusercontent.com/songys/Chatbot_data/master/ChatbotData.csv\", filename=\"ChatBotData.csv\")"
   ]
  },
  {
   "cell_type": "code",
   "execution_count": 38,
   "metadata": {},
   "outputs": [
    {
     "data": {
      "text/html": [
       "<div>\n",
       "<style scoped>\n",
       "    .dataframe tbody tr th:only-of-type {\n",
       "        vertical-align: middle;\n",
       "    }\n",
       "\n",
       "    .dataframe tbody tr th {\n",
       "        vertical-align: top;\n",
       "    }\n",
       "\n",
       "    .dataframe thead th {\n",
       "        text-align: right;\n",
       "    }\n",
       "</style>\n",
       "<table border=\"1\" class=\"dataframe\">\n",
       "  <thead>\n",
       "    <tr style=\"text-align: right;\">\n",
       "      <th></th>\n",
       "      <th>Q</th>\n",
       "      <th>A</th>\n",
       "      <th>label</th>\n",
       "    </tr>\n",
       "  </thead>\n",
       "  <tbody>\n",
       "    <tr>\n",
       "      <th>0</th>\n",
       "      <td>12시 땡!</td>\n",
       "      <td>하루가 또 가네요.</td>\n",
       "      <td>0</td>\n",
       "    </tr>\n",
       "    <tr>\n",
       "      <th>1</th>\n",
       "      <td>1지망 학교 떨어졌어</td>\n",
       "      <td>위로해 드립니다.</td>\n",
       "      <td>0</td>\n",
       "    </tr>\n",
       "    <tr>\n",
       "      <th>2</th>\n",
       "      <td>3박4일 놀러가고 싶다</td>\n",
       "      <td>여행은 언제나 좋죠.</td>\n",
       "      <td>0</td>\n",
       "    </tr>\n",
       "    <tr>\n",
       "      <th>3</th>\n",
       "      <td>3박4일 정도 놀러가고 싶다</td>\n",
       "      <td>여행은 언제나 좋죠.</td>\n",
       "      <td>0</td>\n",
       "    </tr>\n",
       "    <tr>\n",
       "      <th>4</th>\n",
       "      <td>PPL 심하네</td>\n",
       "      <td>눈살이 찌푸려지죠.</td>\n",
       "      <td>0</td>\n",
       "    </tr>\n",
       "  </tbody>\n",
       "</table>\n",
       "</div>"
      ],
      "text/plain": [
       "                 Q            A  label\n",
       "0           12시 땡!   하루가 또 가네요.      0\n",
       "1      1지망 학교 떨어졌어    위로해 드립니다.      0\n",
       "2     3박4일 놀러가고 싶다  여행은 언제나 좋죠.      0\n",
       "3  3박4일 정도 놀러가고 싶다  여행은 언제나 좋죠.      0\n",
       "4          PPL 심하네   눈살이 찌푸려지죠.      0"
      ]
     },
     "execution_count": 38,
     "metadata": {},
     "output_type": "execute_result"
    }
   ],
   "source": [
    "train_data = pd.read_csv('ChatBotData.csv')\n",
    "train_data.head()"
   ]
  },
  {
   "cell_type": "code",
   "execution_count": 39,
   "metadata": {},
   "outputs": [
    {
     "name": "stdout",
     "output_type": "stream",
     "text": [
      "챗봇 샘플의 개수 : 11823\n"
     ]
    }
   ],
   "source": [
    "print('챗봇 샘플의 개수 :', len(train_data))"
   ]
  },
  {
   "cell_type": "code",
   "execution_count": 40,
   "metadata": {},
   "outputs": [
    {
     "name": "stdout",
     "output_type": "stream",
     "text": [
      "Q        0\n",
      "A        0\n",
      "label    0\n",
      "dtype: int64\n"
     ]
    }
   ],
   "source": [
    "# Null값 확인\n",
    "# .isnull()은 DataFrame의 요소가 null인 경우 True를, 아니면 False를 반환한다. 그것 sum했는데 0이 나왔으므로 Null값은 없다.\n",
    "print(train_data.isnull().sum())"
   ]
  },
  {
   "cell_type": "markdown",
   "metadata": {},
   "source": [
    "? . ! 과 같은 구두점 앞에 공백을 추가하여 다른 문자들과 구분한다."
   ]
  },
  {
   "cell_type": "code",
   "execution_count": 41,
   "metadata": {},
   "outputs": [],
   "source": [
    "# 질문 데이터에 구두점 전처리 적용\n",
    "questions = []\n",
    "for sentence in train_data['Q']:\n",
    "    # 구두점에 대해서 띄어쓰기\n",
    "    # ex) 12시 땡! -> 12시 땡 !\n",
    "    \n",
    "    sentence = re.sub(r\"([?.!,])\", r\" \\1 \", sentence)\n",
    "    sentence = sentence.strip()\n",
    "    \"\"\"\n",
    "    - r\"([?.!,])\" 는 ?.!, 중하나를 찾는다\n",
    "    - r\" \\1 \" 는 찾은 구두점(?.!,)의 양쪽에 공백을 추가한다. \n",
    "    - sentence.strip()은 문장의 앞뒤 공백을 제거한다.\n",
    "    \"\"\"\n",
    "    questions.append(sentence)"
   ]
  },
  {
   "cell_type": "code",
   "execution_count": 42,
   "metadata": {},
   "outputs": [],
   "source": [
    "# 답변 데이터에 구두점 전처리 적용\n",
    "answers = []\n",
    "for sentence in train_data['A']:\n",
    "    # 구두점에 대해서 띄어쓰기\n",
    "    sentence = re.sub(r\"([?.!,])\", r\" \\1 \", sentence)\n",
    "    sentence = sentence.strip()\n",
    "    answers.append(sentence)"
   ]
  },
  {
   "cell_type": "code",
   "execution_count": 43,
   "metadata": {},
   "outputs": [
    {
     "name": "stdout",
     "output_type": "stream",
     "text": [
      "['12시 땡 !', '1지망 학교 떨어졌어', '3박4일 놀러가고 싶다', '3박4일 정도 놀러가고 싶다', 'PPL 심하네']\n",
      "['하루가 또 가네요 .', '위로해 드립니다 .', '여행은 언제나 좋죠 .', '여행은 언제나 좋죠 .', '눈살이 찌푸려지죠 .']\n"
     ]
    }
   ],
   "source": [
    "# 구두점들이 분리되었는지 확인\n",
    "print(questions[:5])\n",
    "print(answers[:5])"
   ]
  },
  {
   "cell_type": "markdown",
   "metadata": {},
   "source": [
    "## 2. 단어 집합 생성"
   ]
  },
  {
   "cell_type": "code",
   "execution_count": 44,
   "metadata": {},
   "outputs": [
    {
     "data": {
      "text/plain": [
       "'\\n- questions와 answers 리스트를 합쳐서 하나의 큰 리스트로 만들고 이것이 build_from_corpus의 입력으로 사용된다.\\n- 단어 집합 크기를 2^13(8192)로 설정한다.\\n'"
      ]
     },
     "execution_count": 44,
     "metadata": {},
     "output_type": "execute_result"
    }
   ],
   "source": [
    "# 서브워드텍스트인코더를 사용하여 질문, 답변 데이터로부터 단어 집합(vocabulary) 생성\n",
    "tokenizer = tfds.deprecated.text.SubwordTextEncoder.build_from_corpus(\n",
    "    questions + answers, target_vocab_size=2**13\n",
    ")\n",
    "\n",
    "\"\"\"\n",
    "- questions와 answers 리스트를 합쳐서 하나의 큰 리스트로 만들고 이것이 build_from_corpus의 입력으로 사용된다.\n",
    "- 단어 집합 크기를 2^13(8192)로 설정한다.\n",
    "\"\"\""
   ]
  },
  {
   "cell_type": "code",
   "execution_count": 45,
   "metadata": {},
   "outputs": [
    {
     "data": {
      "text/plain": [
       "8178"
      ]
     },
     "execution_count": 45,
     "metadata": {},
     "output_type": "execute_result"
    }
   ],
   "source": [
    "tokenizer.vocab_size  # 토큰이 총 8187개 라는 것을 의미한다."
   ]
  },
  {
   "cell_type": "markdown",
   "metadata": {},
   "source": [
    "시작 토큰 SOS와 종료 토큰 EOS 존재한다. 이것들도 단어 집합에 포함시켜야 한다."
   ]
  },
  {
   "cell_type": "code",
   "execution_count": 46,
   "metadata": {},
   "outputs": [],
   "source": [
    "# 시작 토큰과 종료 토큰에 대한 정수 부여\n",
    "START_TOKEN, END_TOKEN = [tokenizer.vocab_size], [tokenizer.vocab_size + 1]  # [8178], [8179] 기존에는 0부터 8187까지의 정수 인덱스\n",
    "\n",
    "# 시작 토큰과 종료 토큰을 고려하여 단어 집합의 크기를 + 2\n",
    "VOCAB_SIZE = tokenizer.vocab_size + 2"
   ]
  },
  {
   "cell_type": "markdown",
   "metadata": {},
   "source": [
    "패딩에 사용될 0번 토큰부터, 마지막 토큰인 8179토큰까지의 개수 카운트 - 단어 집합의 크기는 8,180개"
   ]
  },
  {
   "cell_type": "code",
   "execution_count": 47,
   "metadata": {},
   "outputs": [
    {
     "name": "stdout",
     "output_type": "stream",
     "text": [
      "시작 토큰 번호 : [8178]\n",
      "종료 토큰 번호 : [8179]\n",
      "단어 집합의 크기 : 8180\n"
     ]
    }
   ],
   "source": [
    "print('시작 토큰 번호 :', START_TOKEN)\n",
    "print('종료 토큰 번호 :', END_TOKEN)\n",
    "print('단어 집합의 크기 :', VOCAB_SIZE)"
   ]
  },
  {
   "cell_type": "markdown",
   "metadata": {},
   "source": [
    "## 3. 정수 인코딩과 패딩"
   ]
  },
  {
   "cell_type": "code",
   "execution_count": 48,
   "metadata": {},
   "outputs": [
    {
     "name": "stdout",
     "output_type": "stream",
     "text": [
      "임의의 질문 샘플을 정수 인코딩 : [5766, 611, 3509, 141, 685, 3747, 849]\n"
     ]
    }
   ],
   "source": [
    "# 서브워드텍스트인코더 토크나이저의 .encode()를 사용하여 텍스트 시퀀스를 정수 시퀀스로 변환.\n",
    "print('임의의 질문 샘플을 정수 인코딩 : {}'.format(tokenizer.encode(questions[20])))"
   ]
  },
  {
   "cell_type": "markdown",
   "metadata": {},
   "source": [
    "반대로 정수 인코딩 된 결과는 다시 decode()를 사용하여 기존의 텍스트 시퀀스로 복원할 수 있다."
   ]
  },
  {
   "cell_type": "code",
   "execution_count": 49,
   "metadata": {},
   "outputs": [
    {
     "name": "stdout",
     "output_type": "stream",
     "text": [
      "정수 인코딩 후의 문장 [5766, 611, 3509, 141, 685, 3747, 849]\n",
      "기존 문장: 가스비 비싼데 감기 걸리겠어\n"
     ]
    }
   ],
   "source": [
    "# 서브워드텍스트인코더 토크나이저의 .encode()와 .decode() 테스트해보기\n",
    "# 임의의 입력 문장을 sample_string에 저장\n",
    "sample_string = questions[20]\n",
    "\n",
    "# encode() : 텍스트 시퀀스 --> 정수 시퀀스\n",
    "tokenized_string = tokenizer.encode(sample_string)\n",
    "print('정수 인코딩 후의 문장 {}'.format(tokenized_string))\n",
    "\n",
    "# decode() : 정수 시퀀스 --> 텍스트 시퀀스\n",
    "original_string = tokenizer.decode(tokenized_string)\n",
    "print('기존 문장: {}'.format(original_string))"
   ]
  },
  {
   "cell_type": "markdown",
   "metadata": {},
   "source": [
    "정수는 7개인데 어절은 4개이다. 왜? '가스비' 나 '비싼데'라는 한 어절이 정수 인코딩 후에는 두 개 이상의 정수일 수 있다는 것이다.  \n",
    "각 정수가 어떤 서브워드로 맵핑되는지 출력해보자"
   ]
  },
  {
   "cell_type": "code",
   "execution_count": 50,
   "metadata": {},
   "outputs": [
    {
     "name": "stdout",
     "output_type": "stream",
     "text": [
      "5766---->가스\n",
      "611---->비 \n",
      "3509---->비싼\n",
      "141---->데 \n",
      "685---->감기 \n",
      "3747---->걸리\n",
      "849---->겠어\n"
     ]
    }
   ],
   "source": [
    "# 각 정수는 각 단어와 어떻게 mapping되는지 병렬로 출력\n",
    "# 서브워드텍스트인코더는 의미있는 단위의 서브워드로 토크나이징한다. 띄어쓰기 단위 X 형태소 분석 단위 X\n",
    "for ts in tokenized_string:\n",
    "    print('{}---->{}'.format(ts, tokenizer.decode([ts])))"
   ]
  },
  {
   "cell_type": "markdown",
   "metadata": {},
   "source": [
    "이제 전체 데이터에 대해서 정수 인코딩과 패딩을 진행한다.  \n",
    "\n",
    "이를 위한 함수로 tokenize_and_filter()를 만든다. 임의로 패딩의 길이는 40으로 정했다."
   ]
  },
  {
   "cell_type": "code",
   "execution_count": 51,
   "metadata": {},
   "outputs": [],
   "source": [
    "# 최대 길이를 40으로 정의\n",
    "MAX_LENGTH = 40\n",
    "\n",
    "# 토큰화 / 정수 인코딩 / 시작 토큰과 종료 토큰 추가 / 패딩\n",
    "def tokenize_and_filter(inputs, outputs):\n",
    "    \"\"\"\n",
    "        - inputs (List[str]): questions에 해당하는 질문들\n",
    "        - outpus (List[str]): answers에 해당하는 답변들\n",
    "    \"\"\"\n",
    "    tokenized_inputs, tokenized_outputs = [], []\n",
    "    \n",
    "    for (sentence1, sentence2) in zip(inputs, outputs):\n",
    "        # encode(텍스트 시퀀스를 정수 시퀀스로 변환), 시작 토큰과 종료 토큰 추가\n",
    "        sentence1 = START_TOKEN + tokenizer.encode(sentence1) + END_TOKEN  \n",
    "        sentence2 = START_TOKEN + tokenizer.encode(sentence2) + END_TOKEN\n",
    "        \n",
    "        tokenized_inputs.append(sentence1)\n",
    "        tokenized_outputs.append(sentence2)\n",
    "        \n",
    "    # 패딩\n",
    "    tokenized_inputs = tf.keras.preprocessing.sequence.pad_sequences(\n",
    "        tokenized_inputs, maxlen=MAX_LENGTH, padding='post'\n",
    "    ) # pad_sequence는 기본적으로 앞에 0을 채우므로, 뒤에 0을 채우고 싶다면 padding='post'를 해줘야 한다.\n",
    "    tokenized_outputs = tf.keras.preprocessing.sequence.pad_sequences(\n",
    "        tokenized_outputs, maxlen=MAX_LENGTH, padding='post'\n",
    "    )\n",
    "    \n",
    "    return tokenized_inputs, tokenized_outputs"
   ]
  },
  {
   "cell_type": "code",
   "execution_count": 52,
   "metadata": {},
   "outputs": [],
   "source": [
    "questions, answers = tokenize_and_filter(questions, answers)"
   ]
  },
  {
   "cell_type": "code",
   "execution_count": 53,
   "metadata": {},
   "outputs": [
    {
     "name": "stdout",
     "output_type": "stream",
     "text": [
      "질문 데이터의 크기(shape) : (11823, 40)\n",
      "답변 데이터의 크기(shape) : (11823, 40)\n"
     ]
    }
   ],
   "source": [
    "print('질문 데이터의 크기(shape) :', questions.shape)\n",
    "print('답변 데이터의 크기(shape) :', answers.shape)"
   ]
  },
  {
   "cell_type": "code",
   "execution_count": 54,
   "metadata": {},
   "outputs": [
    {
     "name": "stdout",
     "output_type": "stream",
     "text": [
      "[8178 7915 4207 3060   41 8179    0    0    0    0    0    0    0    0\n",
      "    0    0    0    0    0    0    0    0    0    0    0    0    0    0\n",
      "    0    0    0    0    0    0    0    0    0    0    0    0]\n",
      "[8178 3844   74 7894    1 8179    0    0    0    0    0    0    0    0\n",
      "    0    0    0    0    0    0    0    0    0    0    0    0    0    0\n",
      "    0    0    0    0    0    0    0    0    0    0    0    0]\n",
      "<class 'numpy.ndarray'>\n"
     ]
    }
   ],
   "source": [
    "# 0번 샘플을 임의로 출력\n",
    "print(questions[0])\n",
    "print(answers[0])\n",
    "print(type(answers))"
   ]
  },
  {
   "cell_type": "markdown",
   "metadata": {},
   "source": [
    "## 인코더와 디코더의 입력, 그리고 레이블 만들기"
   ]
  },
  {
   "cell_type": "markdown",
   "metadata": {},
   "source": [
    "tf.data.Dataset을 사용하여 데이터를 배치 단위로 불러올 수 있다."
   ]
  },
  {
   "cell_type": "code",
   "execution_count": 55,
   "metadata": {},
   "outputs": [
    {
     "name": "stdout",
     "output_type": "stream",
     "text": [
      "<PrefetchDataset element_spec=({'inputs': TensorSpec(shape=(None, 40), dtype=tf.int32, name=None), 'dec_inputs': TensorSpec(shape=(None, 39), dtype=tf.int32, name=None)}, {'outputs': TensorSpec(shape=(None, 39), dtype=tf.int32, name=None)})>\n"
     ]
    }
   ],
   "source": [
    "# tensorflow dataset을 이용하여 셔플을 수행하되, 배치 크기로 데이터를 묶는다.\n",
    "# 또한, 이 과정에서 교사 강요를 사용하기 위해서 디코더의 입력과 실제값 시퀀스를 구성한다.\n",
    "\n",
    "BATCH_SIZE = 64\n",
    "BUFFER_SIZE = 20000\n",
    "\n",
    "# 디코더의 실제값 시퀀스에서는 시작 토큰을 제거해야 한다.\n",
    "# 교사 강요를 쓰므로 진짜 정답 시퀀스를 디코더의 입력으로 사용한다.\n",
    "dataset = tf.data.Dataset.from_tensor_slices((\n",
    "    {\n",
    "        'inputs': questions,  # questions를 인코더의 입력 데이터로 설정\n",
    "        'dec_inputs': answers[:, :-1]  # 디코더의 입력. 마지막 패딩 토큰이 제거된다.\n",
    "        # 디코더는 현재 단어를 보고 다음 단어를 예측하므로 마지막 단어를 받으면 그 다음에 올 단어가 없다\n",
    "    },\n",
    "    {\n",
    "        'outputs': answers[:, 1:]  # 맨 처음 토큰이 제거된다. 즉, 시작 토큰이 제거된다\n",
    "        # 시작 토큰은 예측할 필요가 없기 때문, 실제 출력은 시작 토큰 없이 시작되므로 디코더의 출력 시퀀스에서 시작 토큰 제거\n",
    "    },\n",
    "))\n",
    "# 즉, 디코더의 입력은 START_TOKEN으로 시작해서 마지막 단어 전 까지이며, 디코더의 출력은 첫 번째 실제 단어부터 마지막 단어까지이다.\n",
    "\n",
    "dataset = dataset.cache()  # cache : 데이터셋의 데이터를 캐시에 저장하여 데이터 로딩 속도를 향상\n",
    "dataset = dataset.shuffle(BUFFER_SIZE)  \n",
    "dataset = dataset.batch(BATCH_SIZE)\n",
    "dataset = dataset.prefetch(tf.data.experimental.AUTOTUNE)  # 데이터 로딩속도를 향상시키기 위해서 미리 데이터를 가져오는것?\n",
    "print(dataset)"
   ]
  },
  {
   "cell_type": "code",
   "execution_count": 56,
   "metadata": {},
   "outputs": [
    {
     "name": "stdout",
     "output_type": "stream",
     "text": [
      "[8178 3844   74 7894    1 8179    0    0    0    0    0    0    0    0\n",
      "    0    0    0    0    0    0    0    0    0    0    0    0    0    0\n",
      "    0    0    0    0    0    0    0    0    0    0    0    0]\n",
      "[[8178 3844   74 7894    1 8179    0    0    0    0    0    0    0    0\n",
      "     0    0    0    0    0    0    0    0    0    0    0    0    0    0\n",
      "     0    0    0    0    0    0    0    0    0    0    0]]\n",
      "[[3844   74 7894    1 8179    0    0    0    0    0    0    0    0    0\n",
      "     0    0    0    0    0    0    0    0    0    0    0    0    0    0\n",
      "     0    0    0    0    0    0    0    0    0    0    0]]\n",
      "<class 'numpy.ndarray'>\n"
     ]
    }
   ],
   "source": [
    "# 임의의 샘플에 대해서 [:, :-1]과 [:, 1:]이 어떤 의미를 가지는지 테스트해본다.\n",
    "print(answers[0]) # 기존 샘플\n",
    "print(answers[:1][:, :-1])  # 마지막 패딩 토큰 제거, 길이 39\n",
    "print(answers[:1][:, 1:])  # 시작 토큰 제거, 길이 39\n",
    "print(type(answers))"
   ]
  },
  {
   "cell_type": "markdown",
   "metadata": {},
   "source": [
    "## 5. 트랜스포머 만들기"
   ]
  },
  {
   "cell_type": "code",
   "execution_count": 57,
   "metadata": {},
   "outputs": [],
   "source": [
    "# 이전에 만들었던 트랜스포머 이용. Transformer_Tensorflow.py 에 있다.\n",
    "from Transformer_Tensorflow import transformer, CustomSchedule"
   ]
  },
  {
   "cell_type": "code",
   "execution_count": 58,
   "metadata": {},
   "outputs": [],
   "source": [
    "tf.keras.backend.clear_session()  # 현재 세션에 존재하는 모든 텐서 객체들을 삭제. \n",
    "\n",
    "# 하이퍼파라미터\n",
    "D_MODEL = 256\n",
    "NUM_LAYERS = 2\n",
    "NUM_HEADS = 8\n",
    "DFF = 512\n",
    "DROPOUT = 0.1\n",
    "\n",
    "model = transformer(\n",
    "    vocab_size=VOCAB_SIZE,\n",
    "    max_length=MAX_LENGTH,\n",
    "    num_layers=NUM_LAYERS,\n",
    "    dff=DFF,\n",
    "    d_model=D_MODEL,\n",
    "    num_heads=NUM_HEADS,\n",
    "    dropout=DROPOUT\n",
    "    )"
   ]
  },
  {
   "cell_type": "code",
   "execution_count": 59,
   "metadata": {},
   "outputs": [],
   "source": [
    "def loss_function(y_true, y_pred):\n",
    "    y_true = tf.reshape(y_true, shape = (-1, MAX_LENGTH - 1))\n",
    "    # y_true의 shape와 y_pred의 shape가 일치하도록 조정하는 것 같다.?\n",
    "    \n",
    "    \n",
    "    \n",
    "    loss = tf.keras.losses.SparseCategoricalCrossentropy(\n",
    "        from_logits=True, reduction='none')(y_true, y_pred)\n",
    "    \n",
    "    # print(\"y_true.shape : \",y_true.shape)\n",
    "    # print(\"y_pred.shape : \", y_pred.shape)\n",
    "    \n",
    "    \n",
    "    # print(\"y_true [-2:, :] : \", y_true.numpy()[-2:, :])\n",
    "    # print(\"y_pred [-2:, :, :] : \", y_pred.numpy()[-2:, :, :])\n",
    "    # print(\"y_true : \", y_true.numpy())\n",
    "    # print(\"y_pred : \", y_pred.numpy())    \n",
    "    \n",
    "    \n",
    "    mask = tf.cast(tf.not_equal(y_true, 0), tf.float32)\n",
    "    # 실제 단어가 아니라 패딩으로 채워진 부분들이 있다. 이 부분을 loss function 계산에서 제외\n",
    "    # 0이 아니면 True를 반환. 즉 0인 부분들은 전부 0.0이 되고 0이 아니면 1.0이 된다\n",
    "    loss = tf.multiply(loss, mask)\n",
    "    # 패딩된 부분의 loss를 0으로 만든다\n",
    "    \n",
    "    return tf.reduce_mean(loss)"
   ]
  },
  {
   "cell_type": "code",
   "execution_count": 60,
   "metadata": {},
   "outputs": [],
   "source": [
    "learning_rate = CustomSchedule(D_MODEL)\n",
    "\n",
    "optimizer = tf.keras.optimizers.Adam(\n",
    "  learning_rate, beta_1=0.9, beta_2=0.98, epsilon=1e-9)\n",
    "\n",
    "def accuracy(y_true, y_pred):\n",
    "  # 레이블의 크기는 (batch_size, MAX_LENGTH - 1)\n",
    "  y_true = tf.reshape(y_true, shape = (-1, MAX_LENGTH - 1))\n",
    "  \n",
    "  return tf.keras.metrics.sparse_categorical_accuracy(y_true, y_pred)\n",
    "\n",
    "model.compile(optimizer=optimizer, loss=loss_function, metrics=[accuracy], run_eagerly=True)"
   ]
  },
  {
   "cell_type": "code",
   "execution_count": 61,
   "metadata": {},
   "outputs": [
    {
     "name": "stdout",
     "output_type": "stream",
     "text": [
      "Epoch 1/50\n"
     ]
    },
    {
     "name": "stdout",
     "output_type": "stream",
     "text": [
      "185/185 [==============================] - 29s 154ms/step - loss: 1.4554 - accuracy: 0.0308\n",
      "Epoch 2/50\n",
      "185/185 [==============================] - 28s 151ms/step - loss: 1.1764 - accuracy: 0.0495\n",
      "Epoch 3/50\n",
      "185/185 [==============================] - 29s 155ms/step - loss: 1.0056 - accuracy: 0.0505\n",
      "Epoch 4/50\n",
      "185/185 [==============================] - 29s 155ms/step - loss: 0.9299 - accuracy: 0.0542\n",
      "Epoch 5/50\n",
      "185/185 [==============================] - 29s 158ms/step - loss: 0.8717 - accuracy: 0.0575\n",
      "Epoch 6/50\n",
      "185/185 [==============================] - 28s 151ms/step - loss: 0.8120 - accuracy: 0.0617\n",
      "Epoch 7/50\n",
      "185/185 [==============================] - 27s 148ms/step - loss: 0.7461 - accuracy: 0.0674\n",
      "Epoch 8/50\n",
      "185/185 [==============================] - 28s 151ms/step - loss: 0.6725 - accuracy: 0.0755\n",
      "Epoch 9/50\n",
      "185/185 [==============================] - 28s 150ms/step - loss: 0.5924 - accuracy: 0.0845\n",
      "Epoch 10/50\n",
      "185/185 [==============================] - 28s 151ms/step - loss: 0.5097 - accuracy: 0.0936\n",
      "Epoch 11/50\n",
      "185/185 [==============================] - 28s 149ms/step - loss: 0.4257 - accuracy: 0.1043\n",
      "Epoch 12/50\n",
      "185/185 [==============================] - 27s 148ms/step - loss: 0.3432 - accuracy: 0.1158\n",
      "Epoch 13/50\n",
      "185/185 [==============================] - 27s 148ms/step - loss: 0.2693 - accuracy: 0.1262\n",
      "Epoch 14/50\n",
      "185/185 [==============================] - 27s 148ms/step - loss: 0.2042 - accuracy: 0.1363\n",
      "Epoch 15/50\n",
      "185/185 [==============================] - 28s 149ms/step - loss: 0.1494 - accuracy: 0.1461\n",
      "Epoch 16/50\n",
      "185/185 [==============================] - 28s 149ms/step - loss: 0.1076 - accuracy: 0.1535\n",
      "Epoch 17/50\n",
      "185/185 [==============================] - 27s 148ms/step - loss: 0.0787 - accuracy: 0.1589\n",
      "Epoch 18/50\n",
      "185/185 [==============================] - 28s 149ms/step - loss: 0.0598 - accuracy: 0.1623\n",
      "Epoch 19/50\n",
      "185/185 [==============================] - 28s 151ms/step - loss: 0.0514 - accuracy: 0.1634\n",
      "Epoch 20/50\n",
      "185/185 [==============================] - 28s 152ms/step - loss: 0.0444 - accuracy: 0.1648\n",
      "Epoch 21/50\n",
      "185/185 [==============================] - 28s 152ms/step - loss: 0.0414 - accuracy: 0.1652\n",
      "Epoch 22/50\n",
      "185/185 [==============================] - 28s 149ms/step - loss: 0.0408 - accuracy: 0.1652\n",
      "Epoch 23/50\n",
      "185/185 [==============================] - 28s 151ms/step - loss: 0.0363 - accuracy: 0.1661\n",
      "Epoch 24/50\n",
      "185/185 [==============================] - 27s 148ms/step - loss: 0.0317 - accuracy: 0.1671\n",
      "Epoch 25/50\n",
      "185/185 [==============================] - 27s 147ms/step - loss: 0.0277 - accuracy: 0.1683\n",
      "Epoch 26/50\n",
      "185/185 [==============================] - 27s 146ms/step - loss: 0.0247 - accuracy: 0.1689\n",
      "Epoch 27/50\n",
      "185/185 [==============================] - 27s 146ms/step - loss: 0.0225 - accuracy: 0.1695\n",
      "Epoch 28/50\n",
      "185/185 [==============================] - 28s 149ms/step - loss: 0.0201 - accuracy: 0.1701\n",
      "Epoch 29/50\n",
      "185/185 [==============================] - 29s 154ms/step - loss: 0.0179 - accuracy: 0.1706\n",
      "Epoch 30/50\n",
      "185/185 [==============================] - 28s 151ms/step - loss: 0.0164 - accuracy: 0.1710\n",
      "Epoch 31/50\n",
      "185/185 [==============================] - 28s 152ms/step - loss: 0.0156 - accuracy: 0.1713\n",
      "Epoch 32/50\n",
      "185/185 [==============================] - 27s 148ms/step - loss: 0.0140 - accuracy: 0.1716\n",
      "Epoch 33/50\n",
      "185/185 [==============================] - 28s 149ms/step - loss: 0.0132 - accuracy: 0.1718\n",
      "Epoch 34/50\n",
      "185/185 [==============================] - 27s 146ms/step - loss: 0.0121 - accuracy: 0.1721\n",
      "Epoch 35/50\n",
      "185/185 [==============================] - 27s 147ms/step - loss: 0.0116 - accuracy: 0.1723\n",
      "Epoch 36/50\n",
      "185/185 [==============================] - 27s 146ms/step - loss: 0.0109 - accuracy: 0.1724\n",
      "Epoch 37/50\n",
      "185/185 [==============================] - 28s 149ms/step - loss: 0.0103 - accuracy: 0.1726\n",
      "Epoch 38/50\n",
      "185/185 [==============================] - 27s 148ms/step - loss: 0.0094 - accuracy: 0.1728\n",
      "Epoch 39/50\n",
      "185/185 [==============================] - 28s 150ms/step - loss: 0.0096 - accuracy: 0.1728\n",
      "Epoch 40/50\n",
      "185/185 [==============================] - 28s 149ms/step - loss: 0.0090 - accuracy: 0.1730\n",
      "Epoch 41/50\n",
      "185/185 [==============================] - 28s 150ms/step - loss: 0.0084 - accuracy: 0.1730\n",
      "Epoch 42/50\n",
      "185/185 [==============================] - 29s 155ms/step - loss: 0.0075 - accuracy: 0.1734\n",
      "Epoch 43/50\n",
      "185/185 [==============================] - 29s 156ms/step - loss: 0.0080 - accuracy: 0.1732\n",
      "Epoch 44/50\n",
      "185/185 [==============================] - 29s 155ms/step - loss: 0.0071 - accuracy: 0.1734\n",
      "Epoch 45/50\n",
      "185/185 [==============================] - 28s 154ms/step - loss: 0.0067 - accuracy: 0.1735\n",
      "Epoch 46/50\n",
      "185/185 [==============================] - 28s 154ms/step - loss: 0.0068 - accuracy: 0.1734\n",
      "Epoch 47/50\n",
      "185/185 [==============================] - 28s 154ms/step - loss: 0.0068 - accuracy: 0.1735\n",
      "Epoch 48/50\n",
      "185/185 [==============================] - 29s 159ms/step - loss: 0.0060 - accuracy: 0.1737\n",
      "Epoch 49/50\n",
      "185/185 [==============================] - 30s 160ms/step - loss: 0.0061 - accuracy: 0.1736\n",
      "Epoch 50/50\n",
      "185/185 [==============================] - 30s 163ms/step - loss: 0.0057 - accuracy: 0.1737\n"
     ]
    },
    {
     "data": {
      "text/plain": [
       "<keras.callbacks.History at 0x1c9812d3250>"
      ]
     },
     "execution_count": 61,
     "metadata": {},
     "output_type": "execute_result"
    }
   ],
   "source": [
    "EPOCHS = 50\n",
    "model.fit(dataset, epochs=EPOCHS)"
   ]
  },
  {
   "cell_type": "markdown",
   "metadata": {},
   "source": [
    "## 6. 챗봇 평가하기"
   ]
  },
  {
   "cell_type": "code",
   "execution_count": 62,
   "metadata": {},
   "outputs": [],
   "source": [
    "def preprocess_sentence(sentence):\n",
    "    # 단어와 구두점 사이에 공백 추가\n",
    "    # ex) 12시 떙! -> 12시 떙 !\n",
    "    sentence = re.sub(r\"([?.!,])\", r\" \\1 \", sentence)\n",
    "    sentence = sentence.strip()\n",
    "    return sentence"
   ]
  },
  {
   "cell_type": "code",
   "execution_count": 63,
   "metadata": {},
   "outputs": [],
   "source": [
    "def evaluate(sentence):\n",
    "    \n",
    "    # 입력 문장에 대한 전처리\n",
    "    sentence = preprocess_sentence(sentence)\n",
    "    \n",
    "    # 입력 문장에 시작 토큰과 종료 토큰을 추가\n",
    "    sentence = tf.expand_dims(\n",
    "        START_TOKEN + tokenizer.encode(sentence) + END_TOKEN, axis=0\n",
    "    ) # tf.expand_dims(..., axis=0)은 [1,2,3]이 [[1,2,3]] 이렇게 되는 것이다.\n",
    "      # 배치 사이즈에 대한 차원 추가인듯\n",
    "    \n",
    "    output = tf.expand_dims(START_TOKEN, 0) # 시작 토큰만으로 구성된 초기 디코더의 입력\n",
    "    print(\"output shape :\", output.shape)\n",
    "    # 처음에는 디코더에게 시작 토큰만을 준다. 그리고 밑의 for문에 들어가게 된다.\n",
    "    \n",
    "    # 디코더의 예측 시작\n",
    "    for i in range(MAX_LENGTH):\n",
    "        predictions = model(inputs=[sentence, output], training=False)\n",
    "        \n",
    "        print(\"predictions shape 1 : \", tf.cast(tf.argmax(predictions[:,:,:], axis=-1), tf.int32))\n",
    "        \n",
    "        # 현재 시점의 예측 단어를 받아온다.\n",
    "        predictions = predictions[:, -1:, :]\n",
    "        print(\"predictions shape 2\", predictions.shape)\n",
    "        \n",
    "        # -1이면 가장 마지막꺼 이므로, 가장 최근의 예측값을 가져온다.\n",
    "        \n",
    "        \n",
    "        predicted_id = tf.cast(tf.argmax(predictions, axis=-1), tf.int32)\n",
    "        # 확률이 가장 높은 단어의 인덱스를 가져온다\n",
    "        print(\"predicted_id shape :\",predicted_id.shape)\n",
    "        \n",
    "        # 만약 현재 시점의 예측 단어가 종료 토큰이라면 예측을 중단\n",
    "        if tf.equal(predicted_id, END_TOKEN[0]):\n",
    "            break\n",
    "        \n",
    "        # 현재 시점의 예측 단어를 output(출력)에 연결\n",
    "        # output은 for문의 다음 루프에서 디코더의 입력이 된다.\n",
    "        output = tf.concat([output, predicted_id], axis=-1)\n",
    "        \n",
    "    # 단어 예측이 모두 끝났다면 output을 리턴\n",
    "    return tf.squeeze(output, axis = 0)"
   ]
  },
  {
   "cell_type": "code",
   "execution_count": 64,
   "metadata": {},
   "outputs": [],
   "source": [
    "def predict(sentence):\n",
    "    prediction = evaluate(sentence)\n",
    "    \n",
    "    # prediction == 디코더가 리턴한 챗봇의 대답에 해당하는 정수 시퀀스\n",
    "    # tokenizer.decode()를 통해 정수 시퀀스를 문자열로 디코딩한다.\n",
    "    predicted_sentence = tokenizer.decode(\n",
    "        [i for i in prediction if i < tokenizer.vocab_size]\n",
    "    )\n",
    "    \n",
    "    # print(\"Input : {}\".format(sentence))\n",
    "    # print(\"Output : {}\".format(predicted_sentence))\n",
    "    \n",
    "    return predicted_sentence"
   ]
  },
  {
   "cell_type": "code",
   "execution_count": 65,
   "metadata": {},
   "outputs": [
    {
     "name": "stdout",
     "output_type": "stream",
     "text": [
      "output shape : (1, 1)\n",
      "predictions shape 1 :  tf.Tensor([[3378]], shape=(1, 1), dtype=int32)\n",
      "predictions shape 2 (1, 1, 8180)\n",
      "predicted_id shape : (1, 1)\n"
     ]
    },
    {
     "name": "stdout",
     "output_type": "stream",
     "text": [
      "predictions shape 1 :  tf.Tensor([[3378 5292]], shape=(1, 2), dtype=int32)\n",
      "predictions shape 2 (1, 1, 8180)\n",
      "predicted_id shape : (1, 1)\n",
      "predictions shape 1 :  tf.Tensor([[3378 5292 2515]], shape=(1, 3), dtype=int32)\n",
      "predictions shape 2 (1, 1, 8180)\n",
      "predicted_id shape : (1, 1)\n",
      "predictions shape 1 :  tf.Tensor([[3378 5292 2515    1]], shape=(1, 4), dtype=int32)\n",
      "predictions shape 2 (1, 1, 8180)\n",
      "predicted_id shape : (1, 1)\n",
      "predictions shape 1 :  tf.Tensor([[3378 5292 2515    1 8179]], shape=(1, 5), dtype=int32)\n",
      "predictions shape 2 (1, 1, 8180)\n",
      "predicted_id shape : (1, 1)\n"
     ]
    },
    {
     "data": {
      "text/plain": [
       "'위로봇이요 .'"
      ]
     },
     "execution_count": 65,
     "metadata": {},
     "output_type": "execute_result"
    }
   ],
   "source": [
    "predict(\"안녕 너 이름이 뭐야\")"
   ]
  },
  {
   "cell_type": "code",
   "execution_count": 66,
   "metadata": {},
   "outputs": [
    {
     "name": "stdout",
     "output_type": "stream",
     "text": [
      "output shape : (1, 1)\n"
     ]
    },
    {
     "name": "stdout",
     "output_type": "stream",
     "text": [
      "predictions shape 1 :  tf.Tensor([[250]], shape=(1, 1), dtype=int32)\n",
      "predictions shape 2 (1, 1, 8180)\n",
      "predicted_id shape : (1, 1)\n",
      "predictions shape 1 :  tf.Tensor([[ 250 1685]], shape=(1, 2), dtype=int32)\n",
      "predictions shape 2 (1, 1, 8180)\n",
      "predicted_id shape : (1, 1)\n",
      "predictions shape 1 :  tf.Tensor([[ 250 1685 3874]], shape=(1, 3), dtype=int32)\n",
      "predictions shape 2 (1, 1, 8180)\n",
      "predicted_id shape : (1, 1)\n",
      "predictions shape 1 :  tf.Tensor([[ 250 1685 3874   16]], shape=(1, 4), dtype=int32)\n",
      "predictions shape 2 (1, 1, 8180)\n",
      "predicted_id shape : (1, 1)\n",
      "predictions shape 1 :  tf.Tensor([[ 250 1685 3874   16  432]], shape=(1, 5), dtype=int32)\n",
      "predictions shape 2 (1, 1, 8180)\n",
      "predicted_id shape : (1, 1)\n",
      "predictions shape 1 :  tf.Tensor([[ 250 1685 3874   16  432    1]], shape=(1, 6), dtype=int32)\n",
      "predictions shape 2 (1, 1, 8180)\n",
      "predicted_id shape : (1, 1)\n",
      "predictions shape 1 :  tf.Tensor([[ 250 1685 3874   16  432    1 8179]], shape=(1, 7), dtype=int32)\n",
      "predictions shape 2 (1, 1, 8180)\n",
      "predicted_id shape : (1, 1)\n"
     ]
    },
    {
     "data": {
      "text/plain": [
       "'저는 사람으로 태어나고 싶어요 .'"
      ]
     },
     "execution_count": 66,
     "metadata": {},
     "output_type": "execute_result"
    }
   ],
   "source": [
    "predict(\"뭔 위로봇이여 너 김승희가 만든 이름 없는 챗봇이잖아\")"
   ]
  },
  {
   "cell_type": "code",
   "execution_count": 67,
   "metadata": {},
   "outputs": [
    {
     "name": "stdout",
     "output_type": "stream",
     "text": [
      "output shape : (1, 1)\n",
      "predictions shape 1 :  tf.Tensor([[1424]], shape=(1, 1), dtype=int32)\n",
      "predictions shape 2 (1, 1, 8180)\n",
      "predicted_id shape : (1, 1)\n",
      "predictions shape 1 :  tf.Tensor([[1424 1253]], shape=(1, 2), dtype=int32)\n",
      "predictions shape 2 (1, 1, 8180)\n",
      "predicted_id shape : (1, 1)\n",
      "predictions shape 1 :  tf.Tensor([[1424 1253  880]], shape=(1, 3), dtype=int32)\n",
      "predictions shape 2 (1, 1, 8180)\n",
      "predicted_id shape : (1, 1)\n",
      "predictions shape 1 :  tf.Tensor([[1424 1253  880   18]], shape=(1, 4), dtype=int32)\n",
      "predictions shape 2 (1, 1, 8180)\n",
      "predicted_id shape : (1, 1)\n",
      "predictions shape 1 :  tf.Tensor([[1424 1253  880   18   22]], shape=(1, 5), dtype=int32)\n",
      "predictions shape 2 (1, 1, 8180)\n",
      "predicted_id shape : (1, 1)\n",
      "predictions shape 1 :  tf.Tensor([[1424 1253  880   18   22    1]], shape=(1, 6), dtype=int32)\n",
      "predictions shape 2 (1, 1, 8180)\n",
      "predicted_id shape : (1, 1)\n",
      "predictions shape 1 :  tf.Tensor([[1424 1253  880   18   22    1 8179]], shape=(1, 7), dtype=int32)\n",
      "predictions shape 2 (1, 1, 8180)\n",
      "predicted_id shape : (1, 1)\n"
     ]
    },
    {
     "data": {
      "text/plain": [
       "'상황마다 다를 것 같아요 .'"
      ]
     },
     "execution_count": 67,
     "metadata": {},
     "output_type": "execute_result"
    }
   ],
   "source": [
    "predict(\"넌 내가 만든 인공지능이다. 사람이 될 수 없어. 가만히 내가 말한거에 답이나 해\")"
   ]
  },
  {
   "cell_type": "code",
   "execution_count": 68,
   "metadata": {},
   "outputs": [
    {
     "name": "stdout",
     "output_type": "stream",
     "text": [
      "output shape : (1, 1)\n",
      "predictions shape 1 :  tf.Tensor([[106]], shape=(1, 1), dtype=int32)\n",
      "predictions shape 2 (1, 1, 8180)\n",
      "predicted_id shape : (1, 1)\n",
      "predictions shape 1 :  tf.Tensor([[106 153]], shape=(1, 2), dtype=int32)\n",
      "predictions shape 2 (1, 1, 8180)\n",
      "predicted_id shape : (1, 1)\n",
      "predictions shape 1 :  tf.Tensor([[106 153 952]], shape=(1, 3), dtype=int32)\n",
      "predictions shape 2 (1, 1, 8180)\n",
      "predicted_id shape : (1, 1)\n",
      "predictions shape 1 :  tf.Tensor([[106 153 952 425]], shape=(1, 4), dtype=int32)\n",
      "predictions shape 2 (1, 1, 8180)\n",
      "predicted_id shape : (1, 1)\n",
      "predictions shape 1 :  tf.Tensor([[106 153 952 425   1]], shape=(1, 5), dtype=int32)\n",
      "predictions shape 2 (1, 1, 8180)\n",
      "predicted_id shape : (1, 1)\n",
      "predictions shape 1 :  tf.Tensor([[ 106  153  952  425    1 8179]], shape=(1, 6), dtype=int32)\n",
      "predictions shape 2 (1, 1, 8180)\n",
      "predicted_id shape : (1, 1)\n"
     ]
    },
    {
     "data": {
      "text/plain": [
       "'그런 친구가 오래가요 .'"
      ]
     },
     "execution_count": 68,
     "metadata": {},
     "output_type": "execute_result"
    }
   ],
   "source": [
    "predict(\"내가 너에 대한 존중이 없었다. 미안하다.\")"
   ]
  },
  {
   "cell_type": "code",
   "execution_count": 69,
   "metadata": {},
   "outputs": [
    {
     "name": "stdout",
     "output_type": "stream",
     "text": [
      "output shape : (1, 1)\n",
      "predictions shape 1 :  tf.Tensor([[1474]], shape=(1, 1), dtype=int32)\n",
      "predictions shape 2 (1, 1, 8180)\n",
      "predicted_id shape : (1, 1)\n",
      "predictions shape 1 :  tf.Tensor([[1474  670]], shape=(1, 2), dtype=int32)\n",
      "predictions shape 2 (1, 1, 8180)\n",
      "predicted_id shape : (1, 1)\n",
      "predictions shape 1 :  tf.Tensor([[1474  670 1207]], shape=(1, 3), dtype=int32)\n",
      "predictions shape 2 (1, 1, 8180)\n",
      "predicted_id shape : (1, 1)\n",
      "predictions shape 1 :  tf.Tensor([[1474  670 1207  578]], shape=(1, 4), dtype=int32)\n",
      "predictions shape 2 (1, 1, 8180)\n",
      "predicted_id shape : (1, 1)\n",
      "predictions shape 1 :  tf.Tensor([[1474  670 1207  578    1]], shape=(1, 5), dtype=int32)\n",
      "predictions shape 2 (1, 1, 8180)\n",
      "predicted_id shape : (1, 1)\n",
      "predictions shape 1 :  tf.Tensor([[1474  670 1207  578    1 8179]], shape=(1, 6), dtype=int32)\n",
      "predictions shape 2 (1, 1, 8180)\n",
      "predicted_id shape : (1, 1)\n"
     ]
    },
    {
     "data": {
      "text/plain": [
       "'현명하시군요 .'"
      ]
     },
     "execution_count": 69,
     "metadata": {},
     "output_type": "execute_result"
    }
   ],
   "source": [
    "predict(\"어떻게 알았지? 너 뭐냐? 내가 거짓말 하는거 어떻게 알았냐\")"
   ]
  },
  {
   "cell_type": "code",
   "execution_count": 70,
   "metadata": {},
   "outputs": [
    {
     "name": "stdout",
     "output_type": "stream",
     "text": [
      "output shape : (1, 1)\n",
      "predictions shape 1 :  tf.Tensor([[1500]], shape=(1, 1), dtype=int32)\n",
      "predictions shape 2 (1, 1, 8180)\n",
      "predicted_id shape : (1, 1)\n",
      "predictions shape 1 :  tf.Tensor([[1500    1]], shape=(1, 2), dtype=int32)\n",
      "predictions shape 2 (1, 1, 8180)\n",
      "predicted_id shape : (1, 1)\n",
      "predictions shape 1 :  tf.Tensor([[1500    1 8179]], shape=(1, 3), dtype=int32)\n",
      "predictions shape 2 (1, 1, 8180)\n",
      "predicted_id shape : (1, 1)\n"
     ]
    },
    {
     "data": {
      "text/plain": [
       "'저도요 .'"
      ]
     },
     "execution_count": 70,
     "metadata": {},
     "output_type": "execute_result"
    }
   ],
   "source": [
    "predict(\"이제 너랑 안 놀고 게임할꺼다\")"
   ]
  }
 ],
 "metadata": {
  "kernelspec": {
   "display_name": "tf2.8_kernel",
   "language": "python",
   "name": "tf2.8"
  },
  "language_info": {
   "codemirror_mode": {
    "name": "ipython",
    "version": 3
   },
   "file_extension": ".py",
   "mimetype": "text/x-python",
   "name": "python",
   "nbconvert_exporter": "python",
   "pygments_lexer": "ipython3",
   "version": "3.9.18"
  },
  "orig_nbformat": 4
 },
 "nbformat": 4,
 "nbformat_minor": 2
}
